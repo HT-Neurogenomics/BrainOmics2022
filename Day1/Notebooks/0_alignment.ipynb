{
 "cells": [
  {
   "cell_type": "code",
   "execution_count": 6,
   "id": "3c64e751-1925-4e83-bbbd-691389a4f8a6",
   "metadata": {},
   "outputs": [],
   "source": [
    "import pandas as pd\n",
    "import yaml \n",
    "\n",
    "with open(yaml.full_load(\"../Paths.yaml\")) as f:\n",
    "    Paths = yaml.full_load(f)\n",
    "\n",
    "baseDataPath = Paths[\"Paths\"][\"External\"]\n",
    "\n",
    "feature_ref_file = baseDataPath+\"/E_MTAB_9964/feature_reference.TEW__47fcbc__Lipid_Hashing_Nuclei_MCF7_PC3_MDAMB231_DU145_cdna___TEW__3d9499__Lipid_Hashing_Nuclei_MCF7_PC3_MDAMB231_DU145_hto.csv\"\n",
    "library_file = baseDataPath+\"/E_MTAB_9964/libraries.TEW__47fcbc__Lipid_Hashing_Nuclei_MCF7_PC3_MDAMB231_DU145_cdna___TEW__3d9499__Lipid_Hashing_Nuclei_MCF7_PC3_MDAMB231_DU145_hto.csv\""
   ]
  },
  {
   "cell_type": "markdown",
   "id": "29769135-372e-49f5-ae74-6819212fcf61",
   "metadata": {},
   "source": [
    "# 1 Alignment and genetic demultiplexing"
   ]
  },
  {
   "cell_type": "markdown",
   "id": "5a9fae08-704b-4757-803e-b3b880560056",
   "metadata": {},
   "source": [
    "![image info](../Pictures/GeneticDemultiplexing_pipeline.png)"
   ]
  },
  {
   "cell_type": "markdown",
   "id": "30f09c17-ace6-4b88-a8da-9232cf654fb5",
   "metadata": {},
   "source": [
    "## Alignment"
   ]
  },
  {
   "cell_type": "code",
   "execution_count": null,
   "id": "c0ecb36f-c1e0-4591-bfe6-75d0ae3b92b7",
   "metadata": {},
   "outputs": [],
   "source": [
    "%%bash\n",
    "cellranger count --id=SampleName \\\n",
    "   --fastqs=path/to/fastq/folder \\\n",
    "   --transcriptome=/opt/refdata-gex-GRCh38-2020-A"
   ]
  },
  {
   "cell_type": "markdown",
   "id": "29010c6f-d91d-4db6-a0fe-83445014f434",
   "metadata": {},
   "source": [
    "![image info](../Pictures/CountOutput.png)"
   ]
  },
  {
   "cell_type": "markdown",
   "id": "8b469074-82b8-4f50-af04-da415c1c8451",
   "metadata": {},
   "source": [
    "## Genetic Demultiplexing"
   ]
  },
  {
   "cell_type": "code",
   "execution_count": null,
   "id": "e94fd46e-bfa4-4f83-acab-c6c7a51ddcb7",
   "metadata": {},
   "outputs": [],
   "source": [
    "%%bash\n",
    "popscle dsc-pileup --sam possorted_genome_bam.bam --vcf ref_vcf.vcf --group-list filtered_features_bc_matrix/barcodes.tsv --out Pileup.plp\n",
    "popscle freemuxlet --plp Pileup.plp --out identities.tsv --nsample 4"
   ]
  },
  {
   "cell_type": "markdown",
   "id": "fdff8757-ec9e-4c31-a853-9beeec1a4b8e",
   "metadata": {},
   "source": [
    "or"
   ]
  },
  {
   "cell_type": "code",
   "execution_count": null,
   "id": "825914d3-05a6-4c55-a9e1-5221eb1db1c0",
   "metadata": {},
   "outputs": [],
   "source": [
    "%%bash\n",
    "demuxlet --sam possorted_genome_bam.bam --vcf genotypes_vcf.vcf --field PL --out identities.tsv"
   ]
  },
  {
   "cell_type": "markdown",
   "id": "086c5a63-2740-4d8a-80e2-8ddbe4ee8a06",
   "metadata": {},
   "source": [
    "**additional filters on VCF file may be useful**\n",
    "- Allelic frequency \n",
    "- Quality\n"
   ]
  },
  {
   "cell_type": "markdown",
   "id": "629fc775-43f5-4f06-9142-891fc59781e7",
   "metadata": {},
   "source": [
    "# 2 Alignment and tags assignment"
   ]
  },
  {
   "cell_type": "markdown",
   "id": "8ea4b749-f60c-446a-816a-bdcc8dd11084",
   "metadata": {},
   "source": [
    "![image info](../Pictures/TagsDemultiplexing_pipeline.png)"
   ]
  },
  {
   "cell_type": "code",
   "execution_count": null,
   "id": "78709d51-b00e-4c90-9d38-e2cb31d038a6",
   "metadata": {},
   "outputs": [],
   "source": [
    "%%bash\n",
    "cellranger count --id=SampleName \\\n",
    "                   --libraries=library_file.csv \\\n",
    "                   --transcriptome=/opt/refdata-gex-GRCh38-2020-A \\\n",
    "                   --feature-ref=feature_ref_file.csv                   "
   ]
  },
  {
   "cell_type": "code",
   "execution_count": 7,
   "id": "420f9c03-f6b6-445a-85ae-645b9d5fcd42",
   "metadata": {},
   "outputs": [
    {
     "data": {
      "text/html": [
       "<div>\n",
       "<style scoped>\n",
       "    .dataframe tbody tr th:only-of-type {\n",
       "        vertical-align: middle;\n",
       "    }\n",
       "\n",
       "    .dataframe tbody tr th {\n",
       "        vertical-align: top;\n",
       "    }\n",
       "\n",
       "    .dataframe thead th {\n",
       "        text-align: right;\n",
       "    }\n",
       "</style>\n",
       "<table border=\"1\" class=\"dataframe\">\n",
       "  <thead>\n",
       "    <tr style=\"text-align: right;\">\n",
       "      <th></th>\n",
       "      <th>fastqs</th>\n",
       "      <th>sample</th>\n",
       "      <th>library_type</th>\n",
       "    </tr>\n",
       "  </thead>\n",
       "  <tbody>\n",
       "    <tr>\n",
       "      <th>0</th>\n",
       "      <td>/staging/leuven/stg_00002/lcb/ngs_runs/HiSeq40...</td>\n",
       "      <td>TEW__47fcbc__Lipid_Hashing_Nuclei_MCF7_PC3_MDA...</td>\n",
       "      <td>Gene Expression</td>\n",
       "    </tr>\n",
       "    <tr>\n",
       "      <th>1</th>\n",
       "      <td>/staging/leuven/stg_00002/lcb/ngs_runs/HiSeq40...</td>\n",
       "      <td>TEW__3d9499__Lipid_Hashing_Nuclei_MCF7_PC3_MDA...</td>\n",
       "      <td>Antibody Capture</td>\n",
       "    </tr>\n",
       "  </tbody>\n",
       "</table>\n",
       "</div>"
      ],
      "text/plain": [
       "                                              fastqs  \\\n",
       "0  /staging/leuven/stg_00002/lcb/ngs_runs/HiSeq40...   \n",
       "1  /staging/leuven/stg_00002/lcb/ngs_runs/HiSeq40...   \n",
       "\n",
       "                                              sample      library_type  \n",
       "0  TEW__47fcbc__Lipid_Hashing_Nuclei_MCF7_PC3_MDA...   Gene Expression  \n",
       "1  TEW__3d9499__Lipid_Hashing_Nuclei_MCF7_PC3_MDA...  Antibody Capture  "
      ]
     },
     "execution_count": 7,
     "metadata": {},
     "output_type": "execute_result"
    }
   ],
   "source": [
    "pd.read_csv(library_file)"
   ]
  },
  {
   "cell_type": "code",
   "execution_count": 8,
   "id": "648c4bfd-3a27-4c55-aa47-e92664730d06",
   "metadata": {},
   "outputs": [
    {
     "data": {
      "text/html": [
       "<div>\n",
       "<style scoped>\n",
       "    .dataframe tbody tr th:only-of-type {\n",
       "        vertical-align: middle;\n",
       "    }\n",
       "\n",
       "    .dataframe tbody tr th {\n",
       "        vertical-align: top;\n",
       "    }\n",
       "\n",
       "    .dataframe thead th {\n",
       "        text-align: right;\n",
       "    }\n",
       "</style>\n",
       "<table border=\"1\" class=\"dataframe\">\n",
       "  <thead>\n",
       "    <tr style=\"text-align: right;\">\n",
       "      <th></th>\n",
       "      <th>id</th>\n",
       "      <th>name</th>\n",
       "      <th>read</th>\n",
       "      <th>pattern</th>\n",
       "      <th>sequence</th>\n",
       "      <th>feature_type</th>\n",
       "    </tr>\n",
       "  </thead>\n",
       "  <tbody>\n",
       "    <tr>\n",
       "      <th>0</th>\n",
       "      <td>Hash-MULTI-1</td>\n",
       "      <td>Hash-MULTI-1</td>\n",
       "      <td>R2</td>\n",
       "      <td>^(BC)</td>\n",
       "      <td>TTGTCACGGTAATTA</td>\n",
       "      <td>Antibody Capture</td>\n",
       "    </tr>\n",
       "    <tr>\n",
       "      <th>1</th>\n",
       "      <td>Hash-MULTI-2</td>\n",
       "      <td>Hash-MULTI-2</td>\n",
       "      <td>R2</td>\n",
       "      <td>^(BC)</td>\n",
       "      <td>ATCGAACCGACAGAG</td>\n",
       "      <td>Antibody Capture</td>\n",
       "    </tr>\n",
       "    <tr>\n",
       "      <th>2</th>\n",
       "      <td>Hash-MULTI-3</td>\n",
       "      <td>Hash-MULTI-3</td>\n",
       "      <td>R2</td>\n",
       "      <td>^(BC)</td>\n",
       "      <td>GGTCGAATATGTCGG</td>\n",
       "      <td>Antibody Capture</td>\n",
       "    </tr>\n",
       "    <tr>\n",
       "      <th>3</th>\n",
       "      <td>Hash-MULTI-4</td>\n",
       "      <td>Hash-MULTI-4</td>\n",
       "      <td>R2</td>\n",
       "      <td>^(BC)</td>\n",
       "      <td>CTCAAGCATTATCAT</td>\n",
       "      <td>Antibody Capture</td>\n",
       "    </tr>\n",
       "  </tbody>\n",
       "</table>\n",
       "</div>"
      ],
      "text/plain": [
       "             id          name read pattern         sequence      feature_type\n",
       "0  Hash-MULTI-1  Hash-MULTI-1   R2   ^(BC)  TTGTCACGGTAATTA  Antibody Capture\n",
       "1  Hash-MULTI-2  Hash-MULTI-2   R2   ^(BC)  ATCGAACCGACAGAG  Antibody Capture\n",
       "2  Hash-MULTI-3  Hash-MULTI-3   R2   ^(BC)  GGTCGAATATGTCGG  Antibody Capture\n",
       "3  Hash-MULTI-4  Hash-MULTI-4   R2   ^(BC)  CTCAAGCATTATCAT  Antibody Capture"
      ]
     },
     "execution_count": 8,
     "metadata": {},
     "output_type": "execute_result"
    }
   ],
   "source": [
    "pd.read_csv(feature_ref_file)"
   ]
  },
  {
   "cell_type": "markdown",
   "id": "f63645dc-b280-44ab-9d02-c2f60269b23f",
   "metadata": {},
   "source": [
    "![image info](../Pictures/CountOutputTAGs.png)"
   ]
  },
  {
   "cell_type": "code",
   "execution_count": null,
   "id": "6306b31d-dd3e-4c3c-8418-c5effdee2f94",
   "metadata": {},
   "outputs": [],
   "source": []
  }
 ],
 "metadata": {
  "kernelspec": {
   "display_name": "Python 3 (ipykernel)",
   "language": "python",
   "name": "python3"
  },
  "language_info": {
   "codemirror_mode": {
    "name": "ipython",
    "version": 3
   },
   "file_extension": ".py",
   "mimetype": "text/x-python",
   "name": "python",
   "nbconvert_exporter": "python",
   "pygments_lexer": "ipython3",
   "version": "3.8.10"
  }
 },
 "nbformat": 4,
 "nbformat_minor": 5
}
