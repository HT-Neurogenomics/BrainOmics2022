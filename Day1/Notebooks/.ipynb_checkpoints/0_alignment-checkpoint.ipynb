{
 "cells": [
  {
   "cell_type": "code",
   "execution_count": 1,
   "id": "3c64e751-1925-4e83-bbbd-691389a4f8a6",
   "metadata": {},
   "outputs": [],
   "source": [
    "import pandas as pd\n",
    "import yaml \n",
    "\n",
    "with open(yaml.full_load(\"../Paths.yaml\")) as f:\n",
    "    Paths = yaml.full_load(f)\n",
    "\n",
    "baseDataPath = Paths[\"Paths\"][\"External\"]\n",
    "\n",
    "feature_ref_file = baseDataPath+\"/E_MTAB_9964/feature_reference.TEW__47fcbc__Lipid_Hashing_Nuclei_MCF7_PC3_MDAMB231_DU145_cdna___TEW__3d9499__Lipid_Hashing_Nuclei_MCF7_PC3_MDAMB231_DU145_hto.csv\"\n",
    "library_file = baseDataPath+\"/E_MTAB_9964/libraries.TEW__47fcbc__Lipid_Hashing_Nuclei_MCF7_PC3_MDAMB231_DU145_cdna___TEW__3d9499__Lipid_Hashing_Nuclei_MCF7_PC3_MDAMB231_DU145_hto.csv\""
   ]
  },
  {
   "cell_type": "markdown",
   "id": "29769135-372e-49f5-ae74-6819212fcf61",
   "metadata": {},
   "source": [
    "# 1 Alignment and genetic demultiplexing"
   ]
  },
  {
   "cell_type": "markdown",
   "id": "5a9fae08-704b-4757-803e-b3b880560056",
   "metadata": {},
   "source": [
    "![image info](../Pictures/GeneticDemultiplexing_pipeline.png)"
   ]
  },
  {
   "cell_type": "markdown",
   "id": "30f09c17-ace6-4b88-a8da-9232cf654fb5",
   "metadata": {},
   "source": [
    "## Alignment"
   ]
  },
  {
   "cell_type": "code",
   "execution_count": null,
   "id": "c0ecb36f-c1e0-4591-bfe6-75d0ae3b92b7",
   "metadata": {},
   "outputs": [],
   "source": [
    "%%bash\n",
    "cellranger count --id=SampleName \\\n",
    "   --fastqs=path/to/fastq/folder \\\n",
    "   --transcriptome=/opt/refdata-gex-GRCh38-2020-A"
   ]
  },
  {
   "cell_type": "markdown",
   "id": "29010c6f-d91d-4db6-a0fe-83445014f434",
   "metadata": {},
   "source": [
    "![image info](../Pictures/CountOutput.png)"
   ]
  },
  {
   "cell_type": "markdown",
   "id": "8b469074-82b8-4f50-af04-da415c1c8451",
   "metadata": {},
   "source": [
    "## Genetic Demultiplexing"
   ]
  },
  {
   "cell_type": "code",
   "execution_count": null,
   "id": "e94fd46e-bfa4-4f83-acab-c6c7a51ddcb7",
   "metadata": {},
   "outputs": [],
   "source": [
    "%%bash\n",
    "popscle dsc-pileup --sam possorted_genome_bam.bam --vcf ref_vcf.vcf --group-list filtered_features_bc_matrix/barcodes.tsv --out Pileup.plp\n",
    "popscle freemuxlet --plp Pileup.plp --out identities.tsv --nsample 4"
   ]
  },
  {
   "cell_type": "markdown",
   "id": "fdff8757-ec9e-4c31-a853-9beeec1a4b8e",
   "metadata": {},
   "source": [
    "or"
   ]
  },
  {
   "cell_type": "code",
   "execution_count": null,
   "id": "825914d3-05a6-4c55-a9e1-5221eb1db1c0",
   "metadata": {},
   "outputs": [],
   "source": [
    "%%bash\n",
    "demuxlet --sam possorted_genome_bam.bam --vcf genotypes_vcf.vcf --field PL --out identities.tsv"
   ]
  },
  {
   "cell_type": "markdown",
   "id": "086c5a63-2740-4d8a-80e2-8ddbe4ee8a06",
   "metadata": {},
   "source": [
    "**additional filters on VCF file may be useful**\n",
    "- Allelic frequency \n",
    "- Quality\n"
   ]
  },
  {
   "cell_type": "markdown",
   "id": "629fc775-43f5-4f06-9142-891fc59781e7",
   "metadata": {},
   "source": [
    "# 2 Alignment and tags assignment"
   ]
  },
  {
   "cell_type": "markdown",
   "id": "8ea4b749-f60c-446a-816a-bdcc8dd11084",
   "metadata": {},
   "source": [
    "![image info](../Pictures/TagsDemultiplexing_pipeline.png)"
   ]
  },
  {
   "cell_type": "code",
   "execution_count": null,
   "id": "78709d51-b00e-4c90-9d38-e2cb31d038a6",
   "metadata": {},
   "outputs": [],
   "source": [
    "%%bash\n",
    "cellranger count --id=SampleName \\\n",
    "                   --libraries=library_file.csv \\\n",
    "                   --transcriptome=/opt/refdata-gex-GRCh38-2020-A \\\n",
    "                   --feature-ref=feature_ref_file.csv                   "
   ]
  },
  {
   "cell_type": "code",
   "execution_count": null,
   "id": "420f9c03-f6b6-445a-85ae-645b9d5fcd42",
   "metadata": {},
   "outputs": [],
   "source": [
    "pd.read_csv(library_file)"
   ]
  },
  {
   "cell_type": "code",
   "execution_count": null,
   "id": "648c4bfd-3a27-4c55-aa47-e92664730d06",
   "metadata": {},
   "outputs": [],
   "source": [
    "pd.read_csv(feature_ref_file)"
   ]
  },
  {
   "cell_type": "markdown",
   "id": "f63645dc-b280-44ab-9d02-c2f60269b23f",
   "metadata": {},
   "source": [
    "![image info](../Pictures/CountOutputTAGs.png)"
   ]
  },
  {
   "cell_type": "code",
   "execution_count": null,
   "id": "6306b31d-dd3e-4c3c-8418-c5effdee2f94",
   "metadata": {},
   "outputs": [],
   "source": []
  }
 ],
 "metadata": {
  "kernelspec": {
   "display_name": "Python 3 (ipykernel)",
   "language": "python",
   "name": "python3"
  },
  "language_info": {
   "codemirror_mode": {
    "name": "ipython",
    "version": 3
   },
   "file_extension": ".py",
   "mimetype": "text/x-python",
   "name": "python",
   "nbconvert_exporter": "python",
   "pygments_lexer": "ipython3",
   "version": "3.8.10"
  }
 },
 "nbformat": 4,
 "nbformat_minor": 5
}
