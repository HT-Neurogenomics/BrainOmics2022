{
 "cells": [
  {
   "cell_type": "markdown",
   "id": "155c3082-21b8-4c11-8ae7-debf749b5c2b",
   "metadata": {
    "tags": []
   },
   "source": [
    "# Library Load"
   ]
  },
  {
   "cell_type": "code",
   "execution_count": null,
   "id": "db766d34-0fa5-445b-bf35-7f82930e89fc",
   "metadata": {},
   "outputs": [],
   "source": [
    "import scanpy as sc\n",
    "import pandas as pd\n",
    "import numpy as np\n",
    "from scipy.stats import gmean\n",
    "import seaborn as sns\n",
    "import anndata as ad\n",
    "import math\n",
    "import matplotlib.pyplot as plt\n",
    "import yaml\n",
    "import rpy2\n",
    "import holoviews as hv\n"
   ]
  },
  {
   "cell_type": "markdown",
   "id": "5b94297b-0b68-4c41-a360-b940135edcde",
   "metadata": {
    "tags": []
   },
   "source": [
    "# Setting paths"
   ]
  },
  {
   "cell_type": "code",
   "execution_count": null,
   "id": "0e5fe0c3-894d-42ba-b699-6eec4123dd8d",
   "metadata": {},
   "outputs": [],
   "source": [
    "with open(yaml.full_load(\"../Paths.yaml\")) as f:\n",
    "    Paths = yaml.full_load(f)\n",
    "\n",
    "baseDataPath = Paths[\"Paths\"][\"External\"]\n",
    "nucleiDS = [\"TotalSeqA_nuclei\", \"CMO_nuclei\"]\n",
    "cellsDS = [\"TotalSeqC_cells\", \"TotalSeqA_cells\", \"LMO_MULTseq_cells\", \"LMO_custom_cells\"]\n",
    "ds = \"CMO_nuclei\"\n",
    "\n"
   ]
  },
  {
   "cell_type": "markdown",
   "id": "84bd3846-8c30-463b-8f06-add410e144f6",
   "metadata": {},
   "source": [
    "# Data import"
   ]
  },
  {
   "cell_type": "code",
   "execution_count": null,
   "id": "44fb258c-3dbc-41ef-881b-2e04687820c2",
   "metadata": {},
   "outputs": [],
   "source": [
    "\n",
    "adata = sc.read_h5ad(baseDataPath+\"/DataByExp/\"+ds+\"/\"+ds+\".h5ad\")\n",
    "adata"
   ]
  },
  {
   "cell_type": "code",
   "execution_count": null,
   "id": "c4e7c893-5df8-40ff-9321-8a9cca2d8769",
   "metadata": {},
   "outputs": [],
   "source": [
    "# Here we separate HTO counts from GEX counts\n",
    "\n",
    "HTOfeatures =  adata[:,adata.var[\"feature_types\"] != \"Gene Expression\"].var_names.tolist()\n",
    "HTOfeatures\n",
    "\n",
    "HTOdf = pd.DataFrame(adata[:,HTOfeatures].X.todense(), index=adata.obs_names, columns=[\"HTO@TAG.\"+i for i in HTOfeatures])\n",
    "#HTOdf = np.log1p(HTOdf.divide(HTOdf.apply(gmean, axis=1), axis = 0))\n",
    "\n",
    "\n",
    "\n",
    "adata.obs = pd.concat([adata.obs,HTOdf], axis = 1)\n",
    "adata.obs\n",
    "\n",
    "# Keep only GEX\n",
    "adata = adata[:,adata.var[\"feature_types\"] == \"Gene Expression\"]"
   ]
  },
  {
   "cell_type": "code",
   "execution_count": null,
   "id": "d3101a02-aa47-4191-bb51-70f680e60113",
   "metadata": {},
   "outputs": [],
   "source": [
    "# Import demultiplexing results\n",
    "GeneticID = pd.read_csv(baseDataPath+\"/DataByExp/\"+ds+\"/\"+ds+\"_freemuxlet_MULTI_HTO_GMM_annotations.csv\", sep =\"\\t\", index_col=0, usecols=[\"cell\",\"freemuxlet_BEST.GUESS\",\"freemuxlet_DROPLET.TYPE\"])\n",
    "GeneticID.index = [i+\"-1\" for i in  GeneticID.index.tolist()]\n",
    "adata.obs = pd.concat([adata.obs,GeneticID], axis = 1).loc[adata.obs_names]\n",
    "adata.obs[\"freemuxlet_BEST.GUESS\"] = np.where(adata.obs[\"freemuxlet_DROPLET.TYPE\"] == \"Singlet\",adata.obs[\"freemuxlet_BEST.GUESS\"],\"Doublet\")"
   ]
  },
  {
   "cell_type": "markdown",
   "id": "84eaf200-df35-4191-bd7d-aa7a18feb4af",
   "metadata": {},
   "source": [
    "# Quick view of unprocessed dataset"
   ]
  },
  {
   "cell_type": "code",
   "execution_count": null,
   "id": "feef7052-ba85-47cc-92a0-21290d23950f",
   "metadata": {},
   "outputs": [],
   "source": [
    "# Standard preprocesing\n",
    "\n",
    "adata_tmp = adata.copy()\n",
    "\n",
    "sc.pp.normalize_total(adata_tmp, target_sum=1e4)\n",
    "sc.pp.log1p(adata_tmp)\n",
    "sc.pp.highly_variable_genes(adata_tmp, min_mean=0.0125, max_mean=3, min_disp=0.5)\n",
    "adata_tmp.raw = adata_tmp\n",
    "\n",
    "\n",
    "# PCA and UMAP\n",
    "sc.tl.pca(adata_tmp, svd_solver='arpack')\n",
    "sc.pp.neighbors(adata_tmp, n_neighbors=30, n_pcs=40)\n",
    "sc.tl.umap(adata_tmp)"
   ]
  },
  {
   "cell_type": "code",
   "execution_count": null,
   "id": "514c3c47-35d9-4dac-a794-7a1466849efd",
   "metadata": {},
   "outputs": [],
   "source": [
    "sc.pl.umap(adata_tmp, color=['freemuxlet_BEST.GUESS'], vmin='p1',vmax='p99')\n",
    "sc.pl.umap(adata_tmp, color=[c for c in adata_tmp.obs.columns if \"HTO@TAG.\" in c], vmin='p1',vmax='p99')"
   ]
  },
  {
   "cell_type": "markdown",
   "id": "a28019ec-0f1a-4ef9-b8a2-aa9bc78dd69d",
   "metadata": {},
   "source": [
    "# Hashtag based deconvolution\n",
    "\n",
    "for this purpose we export the HTO-only counts into R and launch MULTIseqDemux function"
   ]
  },
  {
   "cell_type": "code",
   "execution_count": null,
   "id": "30833977-7bbd-4fca-8f5b-842d734d75ed",
   "metadata": {},
   "outputs": [],
   "source": [
    "import anndata2ri\n",
    "import rpy2.rinterface_lib.callbacks\n",
    "import logging\n",
    "rpy2.rinterface_lib.callbacks.logger.setLevel(logging.ERROR)\n",
    "anndata2ri.activate()"
   ]
  },
  {
   "cell_type": "code",
   "execution_count": null,
   "id": "d7eb15d7-5008-481e-a2c8-e35010c1ecde",
   "metadata": {},
   "outputs": [],
   "source": [
    "%load_ext rpy2.ipython"
   ]
  },
  {
   "cell_type": "code",
   "execution_count": null,
   "id": "e37c03c1-f93f-4a4f-aef9-1bb2448f4308",
   "metadata": {},
   "outputs": [],
   "source": [
    "htDF = adata.obs[[c for c in adata.obs.columns if \"HTO@TAG.\" in c]]\n",
    "htDFAdata = ad.AnnData(htDF.to_numpy(), obs=adata.obs)\n",
    "htDFAdata.var_names = [c for c in adata.obs.columns if \"HTO@TAG.\" in c]\n",
    "htDFAdata.obs = htDFAdata.obs.drop(columns = [c for c in adata.obs.columns if \"HTO@TAG.\" in c])"
   ]
  },
  {
   "cell_type": "code",
   "execution_count": null,
   "id": "c5629a61-2a17-4ecb-aff9-7343f4e24a1e",
   "metadata": {},
   "outputs": [],
   "source": [
    "%%R -i htDFAdata\n",
    "\n",
    "library(Seurat)\n",
    "\n",
    "Sobj <- as.Seurat(htDFAdata, counts = \"X\", data = NULL)\n",
    "Sobj\n",
    "Sobj[[\"HTO\"]] <- CreateAssayObject(counts = GetAssayData(object = Sobj, slot = \"counts\"))\n",
    "Sobj <- NormalizeData(Sobj,assay = \"HTO\", normalization.method = \"CLR\")\n",
    "Sobj <- MULTIseqDemux(Sobj, assay = \"HTO\",autoThresh = TRUE)\n",
    "\n"
   ]
  },
  {
   "cell_type": "code",
   "execution_count": null,
   "id": "89953860-aae3-4b60-b37e-7261ff0c190e",
   "metadata": {},
   "outputs": [],
   "source": [
    "%%R -o TagsID\n",
    "\n",
    "TagsID <- data.frame(\n",
    "                          (lapply(Sobj@meta.data[,c(\"MULTI_ID\",\"MULTI_classification\")], function(x){gsub(\"-\", \"_\", x)})),\n",
    "                          row.names = rownames(Sobj@meta.data)\n",
    "                         )\n"
   ]
  },
  {
   "cell_type": "markdown",
   "id": "47405aec-d199-42bf-ae82-0aacdeb5e8bb",
   "metadata": {},
   "source": [
    "# Import TAGs deconvolution results into original adata"
   ]
  },
  {
   "cell_type": "code",
   "execution_count": null,
   "id": "d368755d-53ff-411e-8e00-529cdeb072a7",
   "metadata": {},
   "outputs": [],
   "source": [
    "try:\n",
    "    adata.obs = adata.obs.drop(columns=\"MULTI_ID\")\n",
    "except:\n",
    "    print(\"MULTI_ID obs not found\")\n",
    "\n",
    "TagsID = TagsID[[\"MULTI_ID\"]]\n",
    "adata.obs = pd.concat([adata.obs,TagsID], axis = 1)\n",
    "\n",
    "# Here we map tag name with best freemuxlet overlap correspondent\n",
    "MapDict = dict(pd.crosstab(adata.obs.loc[~adata.obs[\"MULTI_ID\"].isin([\"Negative\",\"Doublet\"]),\"MULTI_ID\"], adata.obs.loc[~adata.obs[\"MULTI_ID\"].isin([\"Negative\",\"Doublet\"]),\"freemuxlet_BEST.GUESS\"]).idxmax(axis = 1))\n",
    "print(MapDict)\n",
    "adata.obs[\"MULTI_ID\"] = adata.obs[\"MULTI_ID\"].replace(MapDict)+\"_HTO\""
   ]
  },
  {
   "cell_type": "markdown",
   "id": "9218920c-751e-41ea-bd46-1f2cf74b90a2",
   "metadata": {},
   "source": [
    "# Basic Filtering"
   ]
  },
  {
   "cell_type": "code",
   "execution_count": null,
   "id": "dccf2a3c-512b-42d7-afdb-693b95e7856a",
   "metadata": {},
   "outputs": [],
   "source": [
    "# Remove cells with less than 200 counts\n",
    "sc.pp.filter_cells(adata, min_genes=200)\n",
    "\n",
    "\n",
    "# filter on max mito genes %\n",
    "adata.var['mt'] = adata.var_names.str.startswith('MT-')  # annotate the group of mitochondrial genes as 'mt'\n",
    "sc.pp.calculate_qc_metrics(adata, qc_vars=['mt'], percent_top=None, log1p=False, inplace=True)\n",
    "sc.pl.violin(adata, ['n_genes_by_counts', 'total_counts', 'pct_counts_mt'],\n",
    "             jitter=0.4, multi_panel=True)\n",
    "adata\n",
    "\n",
    "# MAD-based filtering\n",
    "MAD = abs(adata.obs[\"pct_counts_mt\"] - adata.obs[\"pct_counts_mt\"].median()).sum() / adata.shape[0]\n",
    "print(\"Only cells with pct mito between {} and {} will be kept\".format(round(adata.obs[\"pct_counts_mt\"].median() - 2*MAD), round(adata.obs[\"pct_counts_mt\"].median() + 2*MAD)))\n",
    "print(\"Ncells: Pre filter {} vs post filter {}\".format(adata.shape[0],\n",
    "                                               adata[(adata.obs[\"pct_counts_mt\"] >= adata.obs[\"pct_counts_mt\"].median() - 2*MAD) & (adata.obs[\"pct_counts_mt\"] <= adata.obs[\"pct_counts_mt\"].median() + 2*MAD)].shape[0]))\n",
    "\n",
    "adata = adata[(adata.obs[\"pct_counts_mt\"] >= adata.obs[\"pct_counts_mt\"].median() - 2*MAD) & (adata.obs[\"pct_counts_mt\"] <= adata.obs[\"pct_counts_mt\"].median() + 2*MAD)]"
   ]
  },
  {
   "cell_type": "markdown",
   "id": "0d63d2ae-7e90-4e48-8dcc-9c6b1b53f349",
   "metadata": {},
   "source": [
    "# Here we logCenter also hashtag counts in obs column for visualization"
   ]
  },
  {
   "cell_type": "code",
   "execution_count": null,
   "id": "968c576b-c098-4c80-8926-1daaaa465bc4",
   "metadata": {},
   "outputs": [],
   "source": [
    "# Firstwe replace 0 with 1\n",
    "HTOdf.loc[(HTOdf == 0).values.any(axis = 1)] = HTOdf[(HTOdf == 0).values.any(axis = 1)].apply(lambda row: row.replace({0:1}))\n",
    "CLR_htos =  np.log(HTOdf.divide(HTOdf.apply(gmean, axis=1), axis = 0))\n",
    "#CLR_htos = CLR_htos.fillna(0)\n",
    "for col in [c for c in adata.obs.columns if \"HTO@TAG.\" in c]:\n",
    "    adata.obs[col] = CLR_htos[col]\n"
   ]
  },
  {
   "cell_type": "markdown",
   "id": "18338916-522a-4636-b7fc-805f40a4cb1c",
   "metadata": {},
   "source": [
    "# Dimensionality reduction on properly processed data"
   ]
  },
  {
   "cell_type": "code",
   "execution_count": null,
   "id": "ec31daf7-3321-4a68-bca0-36c3adabfb36",
   "metadata": {},
   "outputs": [],
   "source": [
    "# Standard preprocesing\n",
    "\n",
    "\n",
    "sc.pp.normalize_total(adata, target_sum=1e4)\n",
    "sc.pp.log1p(adata)\n",
    "sc.pp.highly_variable_genes(adata, min_mean=0.0125, max_mean=3, min_disp=0.5)\n",
    "adata.raw = adata\n",
    "\n",
    "\n",
    "# PCA and UMAP\n",
    "sc.tl.pca(adata, svd_solver='arpack')\n",
    "sc.pp.neighbors(adata, n_neighbors=30, n_pcs=40)\n",
    "sc.tl.umap(adata)"
   ]
  },
  {
   "cell_type": "code",
   "execution_count": null,
   "id": "5ce8647b-2c1b-4eb6-a92c-f637c06a1735",
   "metadata": {},
   "outputs": [],
   "source": [
    "sc.pl.umap(adata, color=['freemuxlet_BEST.GUESS',\"MULTI_ID\"], vmin='p1',vmax='p99', wspace=.3)\n",
    "sc.pl.umap(adata, color=[c for c in adata_tmp.obs.columns if \"HTO@TAG.\" in c])"
   ]
  },
  {
   "cell_type": "markdown",
   "id": "0c5c4992-0d93-487d-9960-947bcc168ecb",
   "metadata": {},
   "source": [
    "# TAGs expression comparison"
   ]
  },
  {
   "cell_type": "code",
   "execution_count": null,
   "id": "57a63eb1-634c-45c8-88f9-b267e8c9f2a8",
   "metadata": {},
   "outputs": [],
   "source": [
    "sc.pl.violin(adata, keys=[c for c in adata.obs.columns if \"HTO@TAG.\" in c], groupby='MULTI_ID', rotation=90)"
   ]
  },
  {
   "cell_type": "code",
   "execution_count": null,
   "id": "33ecceb4-17de-4ae2-90cc-0eb6c9ca999d",
   "metadata": {},
   "outputs": [],
   "source": [
    "g = sns.FacetGrid(adata.obs[[c for c in adata.obs.columns if \"HTO@TAG.\" in c]].melt(), col=\"variable\",hue=\"variable\",height=3.5, aspect=2, col_wrap=2)\n",
    "g.map(sns.kdeplot, \"value\")"
   ]
  },
  {
   "cell_type": "markdown",
   "id": "60260960-79ea-44e8-bde5-fdea8b8cdee4",
   "metadata": {},
   "source": [
    "# Assignment Distribution exploration"
   ]
  },
  {
   "cell_type": "code",
   "execution_count": null,
   "id": "645c3c1e-2cee-45ee-bae4-149b0c6b5448",
   "metadata": {},
   "outputs": [],
   "source": [
    "nrow, ncol = math.ceil(len(adata.obs[\"MULTI_ID\"].unique())/4), 4\n",
    "axs = [(r,c) for r in range(0, nrow) for c in range(0, ncol) ]\n",
    "figsize = (ncol*5, nrow*4.7)  #(width, height)\n",
    "#Set axes\n",
    "fig, ax = plt.subplots(nrows=nrow, ncols=ncol, figsize=figsize)\n",
    "fig.tight_layout(pad=1, h_pad=15)   #space between plots\n",
    "\n",
    "for i in axs[-(len(adata.obs[\"MULTI_ID\"].unique())%4):]:\n",
    "    fig.delaxes(ax[i])\n",
    "\n",
    "#Plot\n",
    "for n,i in enumerate(adata.obs[\"MULTI_ID\"].unique()):\n",
    "    adataID = adata[adata.obs[\"MULTI_ID\"] == i]\n",
    "    \n",
    "    labels = adataID.obs[\"freemuxlet_BEST.GUESS\"].value_counts().index.tolist()\n",
    "    sizes = adataID.obs[\"freemuxlet_BEST.GUESS\"].value_counts().tolist()\n",
    "    myexplode =  tuple([0.2]*len(labels))\n",
    "\n",
    "    ax[axs[n]].pie(sizes, radius=2,explode=myexplode,labels=labels, autopct='%1.1f%%',\n",
    "            shadow=True, startangle=45,rotatelabels=90 )\n",
    "    ax[axs[n]].axis('equal')  # Equal aspect ratio ensures that pie is drawn as a circle.\n",
    "    ax[axs[n]].set_title(i,pad=50)    \n"
   ]
  },
  {
   "cell_type": "markdown",
   "id": "d8dbd107-7594-4a05-bc36-2c97b2fb037f",
   "metadata": {},
   "source": [
    "# Categories assignment overlap"
   ]
  },
  {
   "cell_type": "code",
   "execution_count": null,
   "id": "38201111-2e8a-4eb5-9495-50310ac40eaf",
   "metadata": {},
   "outputs": [],
   "source": [
    "obsTupleToMap = ('freemuxlet_BEST.GUESS',\"MULTI_ID\")\n",
    "SankeyDF=adata.obs[list(obsTupleToMap)]\n",
    "SankeyDF.columns = [obsTupleToMap[0],obsTupleToMap[1]]\n",
    "SankeyDF = SankeyDF.groupby([obsTupleToMap[0],obsTupleToMap[1]]).size().reset_index().rename(columns={0:'count'})\n",
    "SankeyDF=SankeyDF[SankeyDF[\"count\"] != 0]\n",
    "hv.extension('bokeh')\n",
    "\n",
    "sankey1 = hv.Sankey(SankeyDF, kdims=[obsTupleToMap[0],obsTupleToMap[1]], vdims=\"count\")\n",
    "\n",
    "\n",
    "sankey1.opts(label_position='outer',\n",
    "edge_color=obsTupleToMap[0], edge_line_width=0,\n",
    "node_alpha=1.0, node_width=40, node_sort=False,\n",
    "width=1100, height=700, bgcolor=\"white\")"
   ]
  },
  {
   "cell_type": "markdown",
   "id": "fb5a9965-5170-4d6b-9674-47cd6d6d19ab",
   "metadata": {
    "tags": []
   },
   "source": [
    "# Accuracy calculaiton"
   ]
  },
  {
   "cell_type": "code",
   "execution_count": null,
   "id": "4eeebd27-d7f2-4926-b6cd-efdf02ef166e",
   "metadata": {},
   "outputs": [],
   "source": [
    "SingletsDF = adata.obs.loc[(adata.obs[\"freemuxlet_DROPLET.TYPE\"] == \"Singlet\") & (~adata.obs[\"MULTI_ID\"].isin([\"Negative_HTO\",\"Doublet_HTO\"])),[\"MULTI_ID\",\"freemuxlet_BEST.GUESS\"]]\n",
    "SingletsDF.MULTI_ID = SingletsDF.MULTI_ID.str.replace(\"_HTO\", \"\")\n",
    "MathingSNGS=(SingletsDF[\"MULTI_ID\"] == SingletsDF[\"freemuxlet_BEST.GUESS\"]).sum()\n",
    "MathingSNGS\n",
    "\n",
    "NonSingletsDF = adata.obs.loc[(adata.obs[\"freemuxlet_DROPLET.TYPE\"] != \"Singlet\") & (adata.obs[\"MULTI_ID\"].isin([\"Negative_HTO\",\"Doublet_HTO\"])),[\"MULTI_ID\",\"freemuxlet_BEST.GUESS\"]]\n",
    "NonSingletsDF.MULTI_ID = NonSingletsDF.MULTI_ID.str.replace(\"_HTO\", \"\")\n",
    "MathingNonSNGS=(NonSingletsDF[\"MULTI_ID\"] == NonSingletsDF[\"freemuxlet_BEST.GUESS\"]).sum()\n",
    "MathingNonSNGS\n",
    "\n",
    "(MathingSNGS+MathingNonSNGS)/adata.shape[0]"
   ]
  },
  {
   "cell_type": "code",
   "execution_count": null,
   "id": "8ee8c872-5a1c-411f-9d27-f3d82016c52d",
   "metadata": {},
   "outputs": [],
   "source": []
  }
 ],
 "metadata": {
  "kernelspec": {
   "display_name": "Python 3 (ipykernel)",
   "language": "python",
   "name": "python3"
  },
  "language_info": {
   "codemirror_mode": {
    "name": "ipython",
    "version": 3
   },
   "file_extension": ".py",
   "mimetype": "text/x-python",
   "name": "python",
   "nbconvert_exporter": "python",
   "pygments_lexer": "ipython3",
   "version": "3.8.10"
  }
 },
 "nbformat": 4,
 "nbformat_minor": 5
}
