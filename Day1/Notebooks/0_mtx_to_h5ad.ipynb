{
 "cells": [
  {
   "cell_type": "markdown",
   "id": "155c3082-21b8-4c11-8ae7-debf749b5c2b",
   "metadata": {
    "tags": []
   },
   "source": [
    "# Library Load"
   ]
  },
  {
   "cell_type": "code",
   "execution_count": 1,
   "id": "db766d34-0fa5-445b-bf35-7f82930e89fc",
   "metadata": {},
   "outputs": [],
   "source": [
    "import scanpy as sc\n",
    "import pandas as pd\n",
    "import numpy as np\n",
    "from scipy.stats import gmean\n",
    "import seaborn as sns\n",
    "import anndata as ad\n",
    "import rpy2\n",
    "import yaml"
   ]
  },
  {
   "cell_type": "markdown",
   "id": "5b94297b-0b68-4c41-a360-b940135edcde",
   "metadata": {},
   "source": [
    "# Setting paths"
   ]
  },
  {
   "cell_type": "code",
   "execution_count": 2,
   "id": "0e5fe0c3-894d-42ba-b699-6eec4123dd8d",
   "metadata": {},
   "outputs": [],
   "source": [
    "with open(yaml.full_load(\"../Paths.yaml\")) as f:\n",
    "    Paths = yaml.full_load(f)\n",
    "\n",
    "baseDataPath = Paths[\"Paths\"][\"External\"]\n",
    "\n",
    "nucleiDS = [\"TotalSeqA_nuclei\", \"CMO_nuclei\"]\n",
    "cellsDS = [\"TotalSeqC_cells\", \"TotalSeqA_cells\", \"LMO_MULTseq_cells\", \"LMO_custom_cells\"]\n",
    "\n"
   ]
  },
  {
   "cell_type": "markdown",
   "id": "84bd3846-8c30-463b-8f06-add410e144f6",
   "metadata": {},
   "source": [
    "# Data import"
   ]
  },
  {
   "cell_type": "code",
   "execution_count": 3,
   "id": "3db4499c-234c-47aa-9432-f12b9ff8c2b5",
   "metadata": {},
   "outputs": [],
   "source": [
    "dsDict = {}"
   ]
  },
  {
   "cell_type": "code",
   "execution_count": null,
   "id": "44fb258c-3dbc-41ef-881b-2e04687820c2",
   "metadata": {},
   "outputs": [],
   "source": [
    "for ds in nucleiDS+cellsDS:\n",
    "    \n",
    "    print(ds)\n",
    "    dsDict[ds] = sc.read_10x_mtx(baseDataPath+\"/DataByExp/\"+ds, gex_only=False)\n",
    "    #dsDict[ds].write_h5ad(baseDataPath+\"/DataByExp/\"+ds+\"/\"+ds+\".h5ad\")"
   ]
  },
  {
   "cell_type": "code",
   "execution_count": null,
   "id": "ac93e47f-efee-4266-82fe-35a0db88a9a7",
   "metadata": {},
   "outputs": [],
   "source": []
  }
 ],
 "metadata": {
  "kernelspec": {
   "display_name": "Python 3 (ipykernel)",
   "language": "python",
   "name": "python3"
  },
  "language_info": {
   "codemirror_mode": {
    "name": "ipython",
    "version": 3
   },
   "file_extension": ".py",
   "mimetype": "text/x-python",
   "name": "python",
   "nbconvert_exporter": "python",
   "pygments_lexer": "ipython3",
   "version": "3.8.10"
  }
 },
 "nbformat": 4,
 "nbformat_minor": 5
}
